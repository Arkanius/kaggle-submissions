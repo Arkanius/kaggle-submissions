{
 "cells": [
  {
   "cell_type": "code",
   "execution_count": 13,
   "metadata": {
    "scrolled": true
   },
   "outputs": [],
   "source": [
    "import pandas as pd\n",
    "from sklearn.tree import DecisionTreeClassifier as dt\n",
    "\n",
    "#reading data\n",
    "train = pd.read_csv('train.csv')\n",
    "test = pd.read_csv('test.csv')\n",
    "\n",
    "#start cleaning the house by removing unused colouns\n",
    "train.drop(['Name', 'Ticket', 'Cabin'], axis=1, inplace=True)\n",
    "test.drop(['Name', 'Ticket', 'Cabin'], axis=1, inplace=True)\n",
    "\n",
    "train.head()\n",
    "\n",
    "#applying One-hot encoding\n",
    "nDataTrain = pd.get_dummies(train)\n",
    "nDataTest = pd.get_dummies(test)\n",
    "\n",
    "#removing NaN and NULL data\n",
    "nDataTrain['Age'].fillna(nDataTrain['Age'].mean(), inplace=True)\n",
    "nDataTest['Age'].fillna(nDataTest['Age'].mean(), inplace=True)\n",
    "\n",
    "nDataTrain['Fare'].fillna(nDataTrain['Fare'].mean(), inplace=True)\n",
    "nDataTest['Fare'].fillna(nDataTest['Fare'].mean(), inplace=True)\n",
    "\n",
    "nDataTrain.isnull().sum().sort_values(ascending=False).head(10)\n",
    "\n",
    "#getting features and target\n",
    "features = nDataTrain.drop('Survived', axis=1)\n",
    "targets = nDataTrain['Survived']\n",
    "\n",
    "#creating Models\n",
    "model = dt(max_depth=3, random_state=0)\n",
    "model.fit(features, targets)\n",
    "\n",
    "#getting models precision\n",
    "model.score(features, targets)\n",
    "\n",
    "result = pd.DataFrame()\n",
    "result['PassengerId'] = nDataTest['PassengerId']\n",
    "result['Survived'] = model.predict(nDataTest)\n",
    "\n",
    "result.to_csv('kaggleTitanic.csv', index=False)"
   ]
  },
  {
   "cell_type": "code",
   "execution_count": null,
   "metadata": {
    "collapsed": true
   },
   "outputs": [],
   "source": []
  },
  {
   "cell_type": "code",
   "execution_count": null,
   "metadata": {
    "collapsed": true
   },
   "outputs": [],
   "source": []
  }
 ],
 "metadata": {
  "kernelspec": {
   "display_name": "Python 3",
   "language": "python",
   "name": "python3"
  },
  "language_info": {
   "codemirror_mode": {
    "name": "ipython",
    "version": 3
   },
   "file_extension": ".py",
   "mimetype": "text/x-python",
   "name": "python",
   "nbconvert_exporter": "python",
   "pygments_lexer": "ipython3",
   "version": "3.6.3"
  }
 },
 "nbformat": 4,
 "nbformat_minor": 2
}
